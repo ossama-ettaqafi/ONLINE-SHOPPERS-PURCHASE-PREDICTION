{
 "cells": [
  {
   "cell_type": "markdown",
   "id": "26311e8e-e565-4a97-be7a-83a3505fea3f",
   "metadata": {},
   "source": [
    "<table style=\"width:100%; border:none; font-family: Arial, sans-serif;\">\n",
    "  <tr>\n",
    "    <td style=\"width:120px;\">\n",
    "      <img src=\"./images/logo.png\" alt=\"Logo ENSAJ\" width=\"100\" style=\"display:block; margin:auto;\" />\n",
    "    </td>\n",
    "    <td style=\"vertical-align: middle; text-align: left; padding-left: 15px;\">\n",
    "      <h1 style=\"margin-bottom:4px; font-weight: bold; color: #2E4053;\">Visualisation des Données avec Tableau</h1>\n",
    "      <h2 style=\"margin-top:0; margin-bottom:6px; font-weight: normal; color: #34495E;\">Analyse Visuelle des Intentions d’Achat</h2>\n",
    "      <p style=\"margin:0; font-weight: 600; color: #5D6D7E;\">Ossama ETTAQAFI</p>\n",
    "      <p style=\"margin:0; font-style: italic; color: #7F8C8D;\">ENSAJ, Master SDIA - Année universitaire 2024-2025</p>\n",
    "      <p style=\"margin-top:10px; font-size: 0.9em; color: #7F8C8D;\">\n",
    "        Source des données : <a href=\"https://www.kaggle.com/datasets/imakash3011/online-shoppers-purchasing-intention-dataset/data\" target=\"_blank\" style=\"color:#2980B9; text-decoration:none;\">Kaggle - Online Shoppers Purchasing Intention</a>\n",
    "      </p>\n",
    "    </td>\n",
    "  </tr>\n",
    "</table>\n"
   ]
  },
  {
   "attachments": {},
   "cell_type": "markdown",
   "id": "d0021867-e640-4384-9438-cae822ca1b2b",
   "metadata": {},
   "source": [
    "Ce tableau de bord présente une visualisation détaillée des intentions d’achat des visiteurs en ligne, réalisée à l’aide de l’outil Tableau. Pour garantir la fiabilité et la pertinence des analyses, j’ai utilisé un jeu de données préalablement nettoyé et préparé (`cleaned_data.csv`). Ce nettoyage a permis de traiter les valeurs manquantes, les doublons, et les outliers afin d’obtenir une base stable et représentative des comportements des utilisateurs.\n",
    "\n",
    "Le fichier nettoyé utilisé pour cette visualisation est disponible ici :\n",
    "[cleaned\\_data.csv](https://github.com/ossama-ettaqafi/ONLINE-SHOPPERS-PURCHASE-PREDICTION/blob/main/notebooks/cleaned_data.csv)\n",
    "\n",
    "Vous pouvez consulter le dashboard Tableau à cette adresse :\n",
    "[**Lien vers le dashboard Tableau**](https://public.tableau.com/app/profile/ossama.ettaqafi/viz/OnlineShoppersPurchasingIntention_17511259903300/Dashboard1?publish=yes)\n",
    "\n",
    "Ou vous pouvez le trouver localement dans le fichier :\n",
    "`dashboard/tableau_dashboard.twb`"
   ]
  },
  {
   "cell_type": "code",
   "execution_count": null,
   "id": "dbb334ad-58fd-483a-bc8b-151721c0080c",
   "metadata": {},
   "outputs": [],
   "source": []
  }
 ],
 "metadata": {
  "kernelspec": {
   "display_name": "Python 3 (ipykernel)",
   "language": "python",
   "name": "python3"
  },
  "language_info": {
   "codemirror_mode": {
    "name": "ipython",
    "version": 3
   },
   "file_extension": ".py",
   "mimetype": "text/x-python",
   "name": "python",
   "nbconvert_exporter": "python",
   "pygments_lexer": "ipython3",
   "version": "3.13.4"
  }
 },
 "nbformat": 4,
 "nbformat_minor": 5
}
