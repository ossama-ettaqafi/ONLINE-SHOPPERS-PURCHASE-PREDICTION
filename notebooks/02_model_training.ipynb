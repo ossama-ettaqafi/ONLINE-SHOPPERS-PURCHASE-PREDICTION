{
 "cells": [
  {
   "cell_type": "markdown",
   "id": "295276a2-4d90-466c-a63f-625da19f1e6c",
   "metadata": {},
   "source": [
    "<table style=\"width:100%; border:none; font-family: Arial, sans-serif;\">\n",
    "  <tr>\n",
    "    <td style=\"width:120px;\">\n",
    "      <img src=\"./images/logo.png\" alt=\"Logo ENSAJ\" width=\"100\" style=\"display:block; margin:auto;\" />\n",
    "    </td>\n",
    "    <td style=\"vertical-align: middle; text-align: left; padding-left: 15px;\">\n",
    "      <h1 style=\"margin-bottom:4px; font-weight: bold; color: #2E4053;\">Intention d’Achat des Acheteurs en Ligne</h1>\n",
    "      <h2 style=\"margin-top:0; margin-bottom:6px; font-weight: normal; color: #34495E;\">Entraînement des Modèles SVM et Arbre de Décision</h2>\n",
    "      <p style=\"margin:0; font-weight: 600; color: #5D6D7E;\">Ossama ETTAQAFI</p>\n",
    "      <p style=\"margin:0; font-style: italic; color: #7F8C8D;\">ENSAJ, Master SDIA - Année universitaire 2024-2025</p>\n",
    "      <p style=\"margin-top:10px; font-size: 0.9em; color: #7F8C8D;\">\n",
    "        Source des données : <a href=\"https://www.kaggle.com/datasets/imakash3011/online-shoppers-purchasing-intention-dataset/data\" target=\"_blank\">Kaggle - Online Shoppers Purchasing Intention</a>\n",
    "      </p>\n",
    "    </td>\n",
    "  </tr>\n",
    "</table>\n",
    "\n",
    "---\n",
    "\n",
    "## Objectif du Notebook\n",
    "\n",
    "Ce notebook présente la construction, l’entraînement et l’évaluation de deux modèles de machine learning : **Support Vector Machine (SVM)** et **Arbre de décision**, pour prédire l’intention d’achat des visiteurs en ligne.\n",
    "\n",
    "---\n",
    "\n",
    "## Contexte du Projet\n",
    "\n",
    "Les données ont été prétraitées et nettoyées dans les étapes précédentes. Nous utilisons ici deux algorithmes supervisés simples mais efficaces pour comprendre la performance prédictive sur ce dataset.\n",
    "\n",
    "---\n",
    "\n",
    "## Objectifs du Notebook\n",
    "\n",
    "- Charger les données prétraitées (`cleaned_data`)  \n",
    "- Séparer les données en ensembles d’entraînement et test  \n",
    "- Entraîner un modèle SVM et un Arbre de décision  \n",
    "- Évaluer les modèles avec accuracy, F1-score et matrice de confusion  \n",
    "- Comparer les performances\n",
    "\n",
    "---\n",
    "\n",
    "## Environnement\n",
    "\n",
    "- Python 3.x  \n",
    "- Bibliothèques : pandas, numpy, scikit-learn, matplotlib, seaborn, etc."
   ]
  },
  {
   "cell_type": "markdown",
   "id": "8e3a986f-329d-40f8-a8c0-ceba4573c675",
   "metadata": {},
   "source": [
    "**Alors, on commence notre :**"
   ]
  },
  {
   "cell_type": "markdown",
   "id": "4ad3d52f-8cf2-4fc6-a3eb-08d91b0d6acd",
   "metadata": {},
   "source": [
    "<h1 style=\"text-align: center;\">L'entraînement et l’évaluation des models</h1>"
   ]
  },
  {
   "cell_type": "markdown",
   "id": "feeb09b5-1820-47aa-89e1-8129571423ec",
   "metadata": {},
   "source": [
    "## 1. SVM"
   ]
  },
  {
   "cell_type": "code",
   "execution_count": 12,
   "id": "3859e5e8-1cac-466b-8e17-b9cd12476eae",
   "metadata": {},
   "outputs": [
    {
     "name": "stdout",
     "output_type": "stream",
     "text": [
      "Évaluation du modèle SVM\n",
      "Accuracy  : 0.6421\n",
      "F1-score  : 0.3910\n",
      "\n",
      "Classification Report :\n",
      "              precision    recall  f1-score   support\n",
      "\n",
      "           0       0.93      0.62      0.75      3127\n",
      "           1       0.27      0.74      0.39       572\n",
      "\n",
      "    accuracy                           0.64      3699\n",
      "   macro avg       0.60      0.68      0.57      3699\n",
      "weighted avg       0.83      0.64      0.69      3699\n",
      "\n"
     ]
    },
    {
     "data": {
      "image/png": "[encoded data removed]",
      "text/plain": [
       "<Figure size 500x400 with 2 Axes>"
      ]
     },
     "metadata": {},
     "output_type": "display_data"
    }
   ],
   "source": [
    "import pandas as pd\n",
    "from sklearn.svm import SVC\n",
    "from sklearn.metrics import accuracy_score, f1_score, confusion_matrix, classification_report\n",
    "import matplotlib.pyplot as plt\n",
    "import seaborn as sns\n",
    "\n",
    "# 1. Charger les datasets\n",
    "train_set = pd.read_csv(\"train_set.csv\")\n",
    "test_set = pd.read_csv(\"test_set.csv\")\n",
    "\n",
    "# 2. Séparer les features (X) et la cible (y)\n",
    "X_train = train_set.drop(\"Revenue\", axis=1)\n",
    "y_train = train_set[\"Revenue\"]\n",
    "\n",
    "X_test = test_set.drop(\"Revenue\", axis=1)\n",
    "y_test = test_set[\"Revenue\"]\n",
    "\n",
    "# 3. Initialiser et entraîner le modèle SVM avec gestion du déséquilibre\n",
    "svm_model = SVC(kernel='rbf', C=1.0, gamma='scale', random_state=42, class_weight='balanced')\n",
    "svm_model.fit(X_train, y_train)\n",
    "\n",
    "# 4. Prédictions\n",
    "y_pred = svm_model.predict(X_test)\n",
    "\n",
    "# 5. Évaluation\n",
    "print(\"Évaluation du modèle SVM\")\n",
    "print(f\"Accuracy  : {accuracy_score(y_test, y_pred):.4f}\")\n",
    "print(f\"F1-score  : {f1_score(y_test, y_pred, zero_division=0):.4f}\")\n",
    "print(\"\\nClassification Report :\")\n",
    "print(classification_report(y_test, y_pred, zero_division=0))\n",
    "\n",
    "# 6. Matrice de confusion\n",
    "cm = confusion_matrix(y_test, y_pred)\n",
    "plt.figure(figsize=(5, 4))\n",
    "sns.heatmap(cm, annot=True, fmt=\"d\", cmap=\"Blues\")\n",
    "plt.title(\"Matrice de confusion - SVM\")\n",
    "plt.xlabel(\"Prédit\")\n",
    "plt.ylabel(\"Réel\")\n",
    "plt.tight_layout()\n",
    "plt.show()"
   ]
  },
  {
   "cell_type": "markdown",
   "id": "1f8b13d3-58a2-4b7a-a0ec-7e0dc817bfe2",
   "metadata": {},
   "source": [
    "Le modèle SVM prédit correctement environ 64% des cas. Il est très bon pour reconnaître les visiteurs qui n’achètent pas (précision élevée), mais il a du mal à identifier précisément ceux qui achètent (précision faible).\n",
    "\n",
    "Il détecte quand même 74% des acheteurs, mais beaucoup de ces prédictions sont fausses (beaucoup de faux positifs).\n",
    "\n",
    "En résumé, le modèle repère assez bien les non-acheteurs, mais il se trompe souvent quand il dit qu’un visiteur va acheter. C’est un bon début, mais il faut encore l’améliorer pour mieux prédire les achats."
   ]
  },
  {
   "attachments": {},
   "cell_type": "markdown",
   "id": "f385bd6b-ab1b-4b23-b88d-47314ca7b80f",
   "metadata": {},
   "source": [
    "## 2. Arbre de Décision"
   ]
  },
  {
   "cell_type": "code",
   "execution_count": 11,
   "id": "0a0ce1e0-ab79-4987-a3a2-a9bfe672f2d0",
   "metadata": {},
   "outputs": [
    {
     "name": "stdout",
     "output_type": "stream",
     "text": [
      "Évaluation du modèle Arbre de Décision\n",
      "Accuracy  : 0.7499\n",
      "F1-score  : 0.2653\n",
      "\n",
      "Classification Report :\n",
      "              precision    recall  f1-score   support\n",
      "\n",
      "           0       0.87      0.83      0.85      3127\n",
      "           1       0.24      0.29      0.27       572\n",
      "\n",
      "    accuracy                           0.75      3699\n",
      "   macro avg       0.55      0.56      0.56      3699\n",
      "weighted avg       0.77      0.75      0.76      3699\n",
      "\n"
     ]
    },
    {
     "data": {
      "image/png": "[encoded data removed]",
      "text/plain": [
       "<Figure size 500x400 with 2 Axes>"
      ]
     },
     "metadata": {},
     "output_type": "display_data"
    }
   ],
   "source": [
    "import pandas as pd\n",
    "from sklearn.tree import DecisionTreeClassifier\n",
    "from sklearn.metrics import accuracy_score, f1_score, confusion_matrix, classification_report\n",
    "import matplotlib.pyplot as plt\n",
    "import seaborn as sns\n",
    "\n",
    "# 1. Charger les datasets\n",
    "train_set = pd.read_csv(\"train_set.csv\")\n",
    "test_set = pd.read_csv(\"test_set.csv\")\n",
    "\n",
    "# 2. Séparer les features (X) et la cible (y)\n",
    "X_train = train_set.drop(\"Revenue\", axis=1)\n",
    "y_train = train_set[\"Revenue\"]\n",
    "\n",
    "X_test = test_set.drop(\"Revenue\", axis=1)\n",
    "y_test = test_set[\"Revenue\"]\n",
    "\n",
    "# 3. Initialiser et entraîner le modèle Arbre de Décision avec gestion du déséquilibre\n",
    "dt_model = DecisionTreeClassifier(random_state=42, class_weight='balanced')\n",
    "dt_model.fit(X_train, y_train)\n",
    "\n",
    "# 4. Prédictions\n",
    "y_pred = dt_model.predict(X_test)\n",
    "\n",
    "# 5. Évaluation\n",
    "print(\"Évaluation du modèle Arbre de Décision\")\n",
    "print(f\"Accuracy  : {accuracy_score(y_test, y_pred):.4f}\")\n",
    "print(f\"F1-score  : {f1_score(y_test, y_pred, zero_division=0):.4f}\")\n",
    "print(\"\\nClassification Report :\")\n",
    "print(classification_report(y_test, y_pred, zero_division=0))\n",
    "\n",
    "# 6. Matrice de confusion\n",
    "cm = confusion_matrix(y_test, y_pred)\n",
    "plt.figure(figsize=(5, 4))\n",
    "sns.heatmap(cm, annot=True, fmt=\"d\", cmap=\"Greens\")\n",
    "plt.title(\"Matrice de confusion - Arbre de Décision\")\n",
    "plt.xlabel(\"Prédit\")\n",
    "plt.ylabel(\"Réel\")\n",
    "plt.tight_layout()\n",
    "plt.show()"
   ]
  },
  {
   "cell_type": "code",
   "execution_count": null,
   "id": "d7d20372-d1c2-4896-b2fd-e27aaf93a6a1",
   "metadata": {},
   "outputs": [],
   "source": []
  }
 ],
 "metadata": {
  "kernelspec": {
   "display_name": "Python 3 (ipykernel)",
   "language": "python",
   "name": "python3"
  },
  "language_info": {
   "codemirror_mode": {
    "name": "ipython",
    "version": 3
   },
   "file_extension": ".py",
   "mimetype": "text/x-python",
   "name": "python",
   "nbconvert_exporter": "python",
   "pygments_lexer": "ipython3",
   "version": "3.13.4"
  }
 },
 "nbformat": 4,
 "nbformat_minor": 5
}
